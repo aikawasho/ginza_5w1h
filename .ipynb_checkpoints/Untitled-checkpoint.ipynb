{
 "cells": [
  {
   "cell_type": "code",
   "execution_count": 32,
   "metadata": {},
   "outputs": [],
   "source": [
    "#依存構造解析結果から、主要な要素を表示する関数\n",
    "#モデルのロードは関数外で実施すること\n",
    "#import spacy\n",
    "#nlp = spacy.load('ja_ginza')\n",
    "#easy_display_nlp(nlp, \"テスト用の文章\")\n",
    "def easy_display_nlp(my_nlp, input_str):\n",
    "  doc = my_nlp(input_str)\n",
    "  print(doc[13:21].text)\n",
    "  ###依存構文解析結果の表形式表示\n",
    "  result_list = []\n",
    "  for sent in doc.sents:\n",
    "    #１文ごとに改行表示（センテンス区切り表示）\n",
    "    print(sent)\n",
    "\n",
    "    #各文を解析して結果をlistに入れる（文章が複数ある場合でもまとめて一つにしてしまう）\n",
    "    for token in sent:\n",
    "      #https://spacy.io/api/token\n",
    "      #print(dir(token))\n",
    "      #コメントは公式サイト記載ではなく、解釈なので参考程度に。\n",
    "      print(token)\n",
    "      info_dict = {}\n",
    "      info_dict[\".i\"]             = token.i             # トークン番号（複数文がある場合でも0に戻らず連番になる）\n",
    "      info_dict[\".orth_\"]         = token.orth_         # オリジナルテキスト\n",
    "      info_dict[\"._.reading\"]     = token._.reading     # 読み仮名\n",
    "      info_dict[\".pos_\"]          = token.pos_          # 品詞(UD)\n",
    "      info_dict[\".tag_\"]          = token.tag_          # 品詞(日本語)\n",
    "      info_dict[\".lemma_\"]        = token.lemma_        # 基本形（名寄せ後）\n",
    "      info_dict[\"._.inf\"]         = token._.inf         # 活用情報\n",
    "      info_dict[\".rank\"]          = token.rank          # 頻度のように扱えるかも\n",
    "      info_dict[\".norm_\"]         = token.norm_         # 原型\n",
    "      info_dict[\".is_oov\"]        = token.is_oov        # 登録されていない単語か？\n",
    "      info_dict[\".is_stop\"]       = token.is_stop       # ストップワードか？\n",
    "      info_dict[\".has_vector\"]    = token.has_vector    # word2vecの情報を持っているか？\n",
    "      info_dict[\"list(.lefts)\"]   = list(token.lefts)   # 関連語まとめ(左)\n",
    "      info_dict[\"list(.rights)\"]  = ''.join([t.text for t in token.rights])  # 関連語まとめ(右)\n",
    "      info_dict[\".dep_\"]          = token.dep_          # 係り受けの関係性\n",
    "      info_dict[\".head.i\"]        = token.head.i        # 係り受けの相手トークン番号\n",
    "      info_dict[\".head.text\"]     = token.head.text     # 係り受けの相手のテキスト\n",
    "      info_dict[\".ent_type_\"]     = list(token.children)\n",
    "      result_list.append(info_dict)\n",
    "\n",
    "  #作成した辞書のリストを、DataFrame形式にしてJupyter上で綺麗に表示する\n",
    "  import pandas as pd\n",
    "  #pd.set_option('display.max_columns', 100)\n",
    "  df = pd.DataFrame(result_list)\n",
    "  from IPython.display import display\n",
    "  display(df)\n",
    "\n",
    "  ###係り受け表示\n",
    "  #係り受けのグラフ形式を図示する\n",
    "  #Colaboratory上で直接表示するためには少々工夫を要する\n",
    "  #https://stackoverflow.com/questions/58892382/displacy-from-spacy-in-google-colab\n",
    "  from spacy import displacy\n",
    "  displacy.render(doc, style='dep', jupyter=True, options={'distance': 90})\n",
    "\n",
    "  ###抽象分類の可視化\n",
    "  #入力した文章に特に地名等がなければ、\n",
    "  #UserWarning: [W006] No entities to visualize found in Doc object の警告が出る\n",
    "  #抽象分類の表示\n",
    "  ent_result_list = []\n",
    "  for ent in doc.ents:\n",
    "    ent_dict = {}\n",
    "    ent_dict[\".text\"]=ent.text\n",
    "    ent_dict[\".start_char\"]=ent.start_char\n",
    "    ent_dict[\".end_cahr\"]=ent.end_char\n",
    "    ent_dict[\".label_\"]=ent.label_\n",
    "    ent_result_list.append(ent_dict)\n",
    "  #DataFrameの表形式での表示\n",
    "  display(pd.DataFrame(ent_result_list))\n",
    "  #マーキング形式での表示\n",
    "  displacy.render(doc, style='ent', jupyter=True, options={'distance': 90})\n",
    "\n",
    "  ###キーワードの列挙表示\n",
    "  #接頭/接尾などが加わった形で出してくれる\n",
    "  for chunks in doc.noun_chunks:\n",
    "    print(chunks,end=\", \")"
   ]
  },
  {
   "cell_type": "code",
   "execution_count": 33,
   "metadata": {},
   "outputs": [],
   "source": [
    "#依存構造解析結果から、主要な要素を表示する関数\n",
    "#モデルのロードは関数外で実施すること\n",
    "#import spacy\n",
    "#nlp = spacy.load('ja_ginza')\n",
    "#get_features(nlp, \"テスト用の文章\")\n",
    "def get_features(my_nlp, input_str):\n",
    "    doc = my_nlp(input_str)\n",
    "\n",
    "  ###依存構文解析結果の表形式表示\n",
    "    result_list = []\n",
    "    for sent in doc.sents:\n",
    "    #各文を解析して結果をlistに入れる（文章が複数ある場合でもまとめて一つにしてしまう）\n",
    "        for token in sent:\n",
    "            try:\n",
    "                nbor = token.nbor\n",
    "            except IndexError:\n",
    "                nbor = None\n",
    "            info_dict = {}\n",
    "            features = \"i_{0}_text_{1}_pos_{2}_dep_{3}_nbor_{4}_ent_{5}\".format(token.i,token.orth_,token.pos_,token.dep_,token.dep_,token.ent_type_)\n",
    "            info_dict[\"features\"] = features\n",
    "            info_dict[\"text\"] = token.orth_\n",
    "            result_list.append(info_dict)\n",
    "\n",
    "    return(result_list)"
   ]
  },
  {
   "cell_type": "code",
   "execution_count": 40,
   "metadata": {
    "scrolled": true
   },
   "outputs": [
    {
     "name": "stderr",
     "output_type": "stream",
     "text": [
      "/Library/Frameworks/Python.framework/Versions/3.6/lib/python3.6/site-packages/spacy/util.py:275: UserWarning: [W031] Model 'ja_ginza' (3.1.0) requires spaCy v2.2 and is incompatible with the current spaCy version (2.3.2). This may lead to unexpected results or runtime errors. To resolve this, download a newer compatible model or retrain your custom model with the current spaCy version. For more details and available updates, run: python -m spacy validate\n",
      "  warnings.warn(warn_msg)\n"
     ]
    },
    {
     "name": "stdout",
     "output_type": "stream",
     "text": [
      "\n",
      "1時間\n",
      "1\n",
      "時間\n"
     ]
    },
    {
     "data": {
      "text/html": [
       "<div>\n",
       "<style scoped>\n",
       "    .dataframe tbody tr th:only-of-type {\n",
       "        vertical-align: middle;\n",
       "    }\n",
       "\n",
       "    .dataframe tbody tr th {\n",
       "        vertical-align: top;\n",
       "    }\n",
       "\n",
       "    .dataframe thead th {\n",
       "        text-align: right;\n",
       "    }\n",
       "</style>\n",
       "<table border=\"1\" class=\"dataframe\">\n",
       "  <thead>\n",
       "    <tr style=\"text-align: right;\">\n",
       "      <th></th>\n",
       "      <th>.i</th>\n",
       "      <th>.orth_</th>\n",
       "      <th>._.reading</th>\n",
       "      <th>.pos_</th>\n",
       "      <th>.tag_</th>\n",
       "      <th>.lemma_</th>\n",
       "      <th>._.inf</th>\n",
       "      <th>.rank</th>\n",
       "      <th>.norm_</th>\n",
       "      <th>.is_oov</th>\n",
       "      <th>.is_stop</th>\n",
       "      <th>.has_vector</th>\n",
       "      <th>list(.lefts)</th>\n",
       "      <th>list(.rights)</th>\n",
       "      <th>.dep_</th>\n",
       "      <th>.head.i</th>\n",
       "      <th>.head.text</th>\n",
       "      <th>.ent_type_</th>\n",
       "    </tr>\n",
       "  </thead>\n",
       "  <tbody>\n",
       "    <tr>\n",
       "      <th>0</th>\n",
       "      <td>0</td>\n",
       "      <td>1</td>\n",
       "      <td>イチ</td>\n",
       "      <td>NUM</td>\n",
       "      <td>名詞-数詞</td>\n",
       "      <td>1</td>\n",
       "      <td>*,*</td>\n",
       "      <td>18446744073709551615</td>\n",
       "      <td>1</td>\n",
       "      <td>True</td>\n",
       "      <td>False</td>\n",
       "      <td>False</td>\n",
       "      <td>[]</td>\n",
       "      <td></td>\n",
       "      <td>nummod</td>\n",
       "      <td>1</td>\n",
       "      <td>時間</td>\n",
       "      <td>[]</td>\n",
       "    </tr>\n",
       "    <tr>\n",
       "      <th>1</th>\n",
       "      <td>1</td>\n",
       "      <td>時間</td>\n",
       "      <td>ジカン</td>\n",
       "      <td>NOUN</td>\n",
       "      <td>名詞-普通名詞-助数詞可能</td>\n",
       "      <td>時間</td>\n",
       "      <td>*,*</td>\n",
       "      <td>249</td>\n",
       "      <td>時間</td>\n",
       "      <td>False</td>\n",
       "      <td>False</td>\n",
       "      <td>True</td>\n",
       "      <td>[1]</td>\n",
       "      <td></td>\n",
       "      <td>ROOT</td>\n",
       "      <td>1</td>\n",
       "      <td>時間</td>\n",
       "      <td>[1]</td>\n",
       "    </tr>\n",
       "  </tbody>\n",
       "</table>\n",
       "</div>"
      ],
      "text/plain": [
       "   .i .orth_ ._.reading .pos_          .tag_ .lemma_ ._.inf  \\\n",
       "0   0      1         イチ   NUM          名詞-数詞       1    *,*   \n",
       "1   1     時間        ジカン  NOUN  名詞-普通名詞-助数詞可能      時間    *,*   \n",
       "\n",
       "                  .rank .norm_  .is_oov  .is_stop  .has_vector list(.lefts)  \\\n",
       "0  18446744073709551615      1     True     False        False           []   \n",
       "1                   249     時間    False     False         True          [1]   \n",
       "\n",
       "  list(.rights)   .dep_  .head.i .head.text .ent_type_  \n",
       "0                nummod        1         時間         []  \n",
       "1                  ROOT        1         時間        [1]  "
      ]
     },
     "metadata": {},
     "output_type": "display_data"
    },
    {
     "data": {
      "text/html": [
       "<span class=\"tex2jax_ignore\"><svg xmlns=\"http://www.w3.org/2000/svg\" xmlns:xlink=\"http://www.w3.org/1999/xlink\" xml:lang=\"ja\" id=\"f11a8a1308754bab9e22e412b8e5e3af-0\" class=\"displacy\" width=\"230\" height=\"182.0\" direction=\"ltr\" style=\"max-width: none; height: 182.0px; color: #000000; background: #ffffff; font-family: Arial; direction: ltr\">\n",
       "<text class=\"displacy-token\" fill=\"currentColor\" text-anchor=\"middle\" y=\"92.0\">\n",
       "    <tspan class=\"displacy-word\" fill=\"currentColor\" x=\"50\">1</tspan>\n",
       "    <tspan class=\"displacy-tag\" dy=\"2em\" fill=\"currentColor\" x=\"50\">NUM</tspan>\n",
       "</text>\n",
       "\n",
       "<text class=\"displacy-token\" fill=\"currentColor\" text-anchor=\"middle\" y=\"92.0\">\n",
       "    <tspan class=\"displacy-word\" fill=\"currentColor\" x=\"140\">時間</tspan>\n",
       "    <tspan class=\"displacy-tag\" dy=\"2em\" fill=\"currentColor\" x=\"140\">NOUN</tspan>\n",
       "</text>\n",
       "\n",
       "<g class=\"displacy-arrow\">\n",
       "    <path class=\"displacy-arc\" id=\"arrow-f11a8a1308754bab9e22e412b8e5e3af-0-0\" stroke-width=\"2px\" d=\"M70,47.0 C70,2.0 140.0,2.0 140.0,47.0\" fill=\"none\" stroke=\"currentColor\"/>\n",
       "    <text dy=\"1.25em\" style=\"font-size: 0.8em; letter-spacing: 1px\">\n",
       "        <textPath xlink:href=\"#arrow-f11a8a1308754bab9e22e412b8e5e3af-0-0\" class=\"displacy-label\" startOffset=\"50%\" side=\"left\" fill=\"currentColor\" text-anchor=\"middle\">nummod</textPath>\n",
       "    </text>\n",
       "    <path class=\"displacy-arrowhead\" d=\"M70,49.0 L62,37.0 78,37.0\" fill=\"currentColor\"/>\n",
       "</g>\n",
       "</svg></span>"
      ],
      "text/plain": [
       "<IPython.core.display.HTML object>"
      ]
     },
     "metadata": {},
     "output_type": "display_data"
    },
    {
     "data": {
      "text/html": [
       "<div>\n",
       "<style scoped>\n",
       "    .dataframe tbody tr th:only-of-type {\n",
       "        vertical-align: middle;\n",
       "    }\n",
       "\n",
       "    .dataframe tbody tr th {\n",
       "        vertical-align: top;\n",
       "    }\n",
       "\n",
       "    .dataframe thead th {\n",
       "        text-align: right;\n",
       "    }\n",
       "</style>\n",
       "<table border=\"1\" class=\"dataframe\">\n",
       "  <thead>\n",
       "    <tr style=\"text-align: right;\">\n",
       "      <th></th>\n",
       "      <th>.text</th>\n",
       "      <th>.start_char</th>\n",
       "      <th>.end_cahr</th>\n",
       "      <th>.label_</th>\n",
       "    </tr>\n",
       "  </thead>\n",
       "  <tbody>\n",
       "    <tr>\n",
       "      <th>0</th>\n",
       "      <td>1時間</td>\n",
       "      <td>0</td>\n",
       "      <td>3</td>\n",
       "      <td>Period_Time</td>\n",
       "    </tr>\n",
       "  </tbody>\n",
       "</table>\n",
       "</div>"
      ],
      "text/plain": [
       "  .text  .start_char  .end_cahr      .label_\n",
       "0   1時間            0          3  Period_Time"
      ]
     },
     "metadata": {},
     "output_type": "display_data"
    },
    {
     "data": {
      "text/html": [
       "<span class=\"tex2jax_ignore\"><div class=\"entities\" style=\"line-height: 2.5; direction: ltr\">\n",
       "<mark class=\"entity\" style=\"background: #ddd; padding: 0.45em 0.6em; margin: 0 0.25em; line-height: 1; border-radius: 0.35em;\">\n",
       "    1時間\n",
       "    <span style=\"font-size: 0.8em; font-weight: bold; line-height: 1; border-radius: 0.35em; text-transform: uppercase; vertical-align: middle; margin-left: 0.5rem\">Period_Time</span>\n",
       "</mark>\n",
       "</div></span>"
      ],
      "text/plain": [
       "<IPython.core.display.HTML object>"
      ]
     },
     "metadata": {},
     "output_type": "display_data"
    },
    {
     "name": "stdout",
     "output_type": "stream",
     "text": [
      "時間, "
     ]
    }
   ],
   "source": [
    "import spacy\n",
    "nlp = spacy.load('ja_ginza')\n",
    "#merge_nps = nlp.create_pipe(\"merge_noun_chunks\")\n",
    "#nlp.add_pipe(merge_nps)\n",
    "target_str = \"1時間\"\n",
    "\n",
    "\n",
    "easy_display_nlp(nlp, target_str)"
   ]
  },
  {
   "cell_type": "code",
   "execution_count": 19,
   "metadata": {},
   "outputs": [
    {
     "ename": "NameError",
     "evalue": "name 'doc' is not defined",
     "output_type": "error",
     "traceback": [
      "\u001b[0;31m---------------------------------------------------------------------------\u001b[0m",
      "\u001b[0;31mNameError\u001b[0m                                 Traceback (most recent call last)",
      "\u001b[0;32m<ipython-input-19-6a8db655454f>\u001b[0m in \u001b[0;36m<module>\u001b[0;34m\u001b[0m\n\u001b[0;32m----> 1\u001b[0;31m \u001b[0mlen\u001b[0m\u001b[0;34m(\u001b[0m\u001b[0mdoc\u001b[0m\u001b[0;34m)\u001b[0m\u001b[0;34m\u001b[0m\u001b[0;34m\u001b[0m\u001b[0m\n\u001b[0m",
      "\u001b[0;31mNameError\u001b[0m: name 'doc' is not defined"
     ]
    }
   ],
   "source": [
    "len(n)"
   ]
  },
  {
   "cell_type": "code",
   "execution_count": 9,
   "metadata": {},
   "outputs": [
    {
     "ename": "AttributeError",
     "evalue": "'spacy.tokens.doc.Doc' object has no attribute 'sent'",
     "output_type": "error",
     "traceback": [
      "\u001b[0;31m---------------------------------------------------------------------------\u001b[0m",
      "\u001b[0;31mAttributeError\u001b[0m                            Traceback (most recent call last)",
      "\u001b[0;32m<ipython-input-9-022dd6bce447>\u001b[0m in \u001b[0;36m<module>\u001b[0;34m\u001b[0m\n\u001b[0;32m----> 1\u001b[0;31m \u001b[0mdoc\u001b[0m\u001b[0;34m.\u001b[0m\u001b[0msent\u001b[0m\u001b[0;34m\u001b[0m\u001b[0;34m\u001b[0m\u001b[0m\n\u001b[0m",
      "\u001b[0;31mAttributeError\u001b[0m: 'spacy.tokens.doc.Doc' object has no attribute 'sent'"
     ]
    }
   ],
   "source": [
    "doc.token"
   ]
  },
  {
   "cell_type": "code",
   "execution_count": null,
   "metadata": {},
   "outputs": [],
   "source": []
  }
 ],
 "metadata": {
  "kernelspec": {
   "display_name": "Python 3",
   "language": "python",
   "name": "python3"
  },
  "language_info": {
   "codemirror_mode": {
    "name": "ipython",
    "version": 3
   },
   "file_extension": ".py",
   "mimetype": "text/x-python",
   "name": "python",
   "nbconvert_exporter": "python",
   "pygments_lexer": "ipython3",
   "version": "3.6.8"
  }
 },
 "nbformat": 4,
 "nbformat_minor": 2
}
