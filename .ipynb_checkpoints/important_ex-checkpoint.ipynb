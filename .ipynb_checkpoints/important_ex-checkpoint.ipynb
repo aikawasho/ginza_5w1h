{
 "cells": [
  {
   "cell_type": "code",
   "execution_count": 11,
   "metadata": {},
   "outputs": [
    {
     "name": "stdout",
     "output_type": "stream",
     "text": [
      "OK えっとー聞こえる。はい聞こえます。AI専用のホームページの話があったじゃん。はい。あれさあ尾崎の方でもってもらいたいの。承知しました。多分出来上がって石井さんから入れてもらってるんだけどあれおすすめらんないかな。承知しました。請求とかが今。さっさとホームページ出してほしいんじゃないのページを公開をちょっとあるお酒持ってもらっていい。色々あるから大変だったらちょっと俺に言って。承知しました。塩釜もあるしアイタムズのさっき言ったようにちょっと持ってるじゃん。じゃあITDは伊藤にさあ引き継いでいいから。承知しました。ITD伊藤に引き継いだ後でもいいんだけどでいいから AIのホームページのやつ入ってほしいからだからアイタムズ今月、5月も少しあるのかな、塩釜メインでそういう感じでいい、ちょっとお願いして。承知しました。一点だけですね、ご報告したいことがありまして。どこか明日の10時まであの日本テクト条件で作業が厳しいということを伺ったんですね。なのでもう人を入れるしかないと考えております。なるほどね。はい。日本テクトってそんな忙しいんだ。IBMのもやってるからね。なるほど。中島さんもほぼ同じ状況のようです。 かといって誰入れる。でもそうですね。　JAVAで岡島さん作ってんでしょ。言語ちょっと確認して。PHPです。で作ってるって。今じゃあできるけど忙しいから。PHPだったらでもまだ見つかるね。ちょっと俺じゃあ当たるわ。 もう一つがですねswiftで万歩計アプリってかかるれている。あっちはとさんできる。ようさん監修の元とさんって感じかな。PHPが尾崎の動きの方が好きでいいと思うんだよ。最もマルチプラットフォームだと望ましいんですよ。あーそうだな。一旦もういいよ。りょうさん空くまでIOSでとさんやってもらって、 Android の対応も最悪 Android で出てくるけど後でフラットにする。ちょっとら当たる。あのグループで今から投げるからちょっと待ってここで。今投げた。優先順位としては塩釜一番なのは変わりないから尾崎は2番目がアイタイムズで、ITD の件は3番目。ITDのやつが終わってからでいい、AIのホームページは。忘れないでね。早く会いたいですね先週だっけ石井さんから言われてるやつあごめんちょっとそれはそうだな\n"
     ]
    }
   ],
   "source": [
    "from parse_5w1h import parse_5w1h\n",
    "import spacy\n",
    "import re\n",
    "#テストファイル読み込み&下処理\n",
    "path = \"/Users/shota/Documents/itac/test_summary1.txt\"\n",
    "with open(path) as f:\n",
    "    s = f.read()\n",
    "s = s.replace('\\n','')\n",
    "print(s)\n",
    "nlp = spacy.load('ja_ginza')\n",
    "doc = nlp(s)\n",
    "text2 = [s.text for s in doc if not re.fullmatch(\"まあ|まぁ|ま|えー|あのー|あ|えっとー\",s.text) ]\n",
    "text2 = ''.join(text2)\n",
    "doc = nlp(text2)"
   ]
  },
  {
   "cell_type": "code",
   "execution_count": 4,
   "metadata": {},
   "outputs": [
    {
     "name": "stdout",
     "output_type": "stream",
     "text": [
      "語彙サイズ: 56\n"
     ]
    }
   ],
   "source": [
    "from collections import defaultdict\n",
    "\n",
    "# 1. 単語の頻度をカウント\n",
    "word2freq = defaultdict(int)\n",
    "word_list = []\n",
    "for sent in doc.sents:\n",
    "    word_list = [word.text for word in sent if word.pos_ == \"NOUN\"] \n",
    "    for word in set(word_list) :\n",
    "            word2freq[word] += 1\n",
    "print(\"語彙サイズ: %d\" % len(word2freq.keys()))"
   ]
  },
  {
   "cell_type": "code",
   "execution_count": 5,
   "metadata": {},
   "outputs": [
    {
     "name": "stdout",
     "output_type": "stream",
     "text": [
      "語彙サイズ: 56\n"
     ]
    }
   ],
   "source": [
    "# 2. 語彙制限（高頻度な500単語に制限）\n",
    "\n",
    "vocab = list()\n",
    "for word, freq in sorted(word2freq.items(), key=lambda x: x[1], reverse=True)[:500]:\n",
    "    vocab.append(word)\n",
    "print(\"語彙サイズ: %d\" % len(vocab))"
   ]
  },
  {
   "cell_type": "code",
   "execution_count": 25,
   "metadata": {},
   "outputs": [],
   "source": [
    "# 3. TFIDFの計算\n",
    "def tfidf(word, word_list, word2freq, n):\n",
    "    return (word_list.count(word) / len(word_list)) * math.log(n / word2freq[word])"
   ]
  },
  {
   "cell_type": "code",
   "execution_count": 29,
   "metadata": {},
   "outputs": [],
   "source": [
    "# 4. tfidfに変換\n",
    "import math\n",
    "def tfidf_list(doc,vocab,word2freq, n):\n",
    "    word_im = defaultdict(int)\n",
    "    for sent in doc.sents:\n",
    "        word_list = [word.text for word in sent] \n",
    "        for token in sent:\n",
    "            if token.text in vocab:\n",
    "                word_im[token.text] = tfidf(token.text, word_list, word2freq, n)\n",
    "    return word_im"
   ]
  },
  {
   "cell_type": "code",
   "execution_count": 30,
   "metadata": {},
   "outputs": [
    {
     "data": {
      "text/plain": [
       "[('OK', 1.3040076684760487),\n",
       " ('ら', 0.9780057513570365),\n",
       " ('今', 0.7033526791900091),\n",
       " ('請求', 0.6520038342380243),\n",
       " ('言語', 0.6520038342380243),\n",
       " ('JAVA', 0.43466922282534953),\n",
       " ('テクト', 0.40235947810852507),\n",
       " ('状況', 0.39120230054281463),\n",
       " ('マルチ', 0.39120230054281463),\n",
       " ('プラットフォーム', 0.39120230054281463),\n",
       " ('専用', 0.3556384550389224),\n",
       " ('話', 0.3556384550389224),\n",
       " ('監修', 0.32600191711901216),\n",
       " ('元', 0.32600191711901216),\n",
       " ('グループ', 0.30092484657139584),\n",
       " ('番目', 0.279430214673439),\n",
       " ('感じ', 0.26823965207235),\n",
       " ('人', 0.26080153369520975),\n",
       " ('Android', 0.26080153369520975),\n",
       " ('点', 0.24450143783925912),\n",
       " ('ご', 0.24450143783925912),\n",
       " ('つ', 0.2301190003193027),\n",
       " ('万歩', 0.2301190003193027),\n",
       " ('計', 0.2301190003193027),\n",
       " ('アプリ', 0.2301190003193027),\n",
       " ('動き', 0.2301190003193027),\n",
       " ('方', 0.18934563675695298),\n",
       " ('AI', 0.1875607144506691),\n",
       " ('先週', 0.1778192275194612),\n",
       " ('ごめん', 0.1778192275194612),\n",
       " ('ページ', 0.17008795675774546),\n",
       " ('公開', 0.17008795675774546),\n",
       " ('酒', 0.17008795675774546),\n",
       " ('ホームページ', 0.16838190962055039),\n",
       " ('ITD', 0.16838190962055039),\n",
       " ('PHP', 0.165494748044708),\n",
       " ('明日', 0.15648092021712584),\n",
       " ('時', 0.15648092021712584),\n",
       " ('条件', 0.15648092021712584),\n",
       " ('作業', 0.15648092021712584),\n",
       " ('塩釜', 0.1397151073367195),\n",
       " ('優先順位', 0.1397151073367195),\n",
       " ('変わり', 0.1397151073367195),\n",
       " ('アイタイムズ', 0.1397151073367195),\n",
       " ('件', 0.1397151073367195),\n",
       " ('IOS', 0.13040076684760488),\n",
       " ('対応', 0.13040076684760488),\n",
       " ('最悪', 0.13040076684760488),\n",
       " ('こと', 0.128755032994728),\n",
       " ('やつ', 0.12788230530727437),\n",
       " ('後', 0.10729586082894002),\n",
       " ('さん', 0.08936876619876513),\n",
       " ('月', 0.07381175481939897),\n",
       " ('メイン', 0.07381175481939897),\n",
       " ('アイタムズ', 0.06073350612958869),\n",
       " ('お', 0.053083221070944084)]"
      ]
     },
     "execution_count": 30,
     "metadata": {},
     "output_type": "execute_result"
    }
   ],
   "source": [
    "# 4. 文を解析, tfidfが大きい順にならびかえ\n",
    "\n",
    "aa = tfidf_list(doc,vocab, word2freq, len([1 for sent in doc.sents]))\n",
    "sorted(aa.items(), key=lambda x: x[1], reverse=True)"
   ]
  },
  {
   "cell_type": "code",
   "execution_count": null,
   "metadata": {},
   "outputs": [],
   "source": []
  }
 ],
 "metadata": {
  "kernelspec": {
   "display_name": "Python 3",
   "language": "python",
   "name": "python3"
  },
  "language_info": {
   "codemirror_mode": {
    "name": "ipython",
    "version": 3
   },
   "file_extension": ".py",
   "mimetype": "text/x-python",
   "name": "python",
   "nbconvert_exporter": "python",
   "pygments_lexer": "ipython3",
   "version": "3.6.8"
  }
 },
 "nbformat": 4,
 "nbformat_minor": 2
}
