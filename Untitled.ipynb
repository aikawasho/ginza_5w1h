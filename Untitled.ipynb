{
 "cells": [
  {
   "cell_type": "code",
   "execution_count": 6,
   "metadata": {},
   "outputs": [],
   "source": [
    "#依存構造解析結果から、主要な要素を表示する関数\n",
    "#モデルのロードは関数外で実施すること\n",
    "#import spacy\n",
    "#nlp = spacy.load('ja_ginza')\n",
    "#easy_display_nlp(nlp, \"テスト用の文章\")\n",
    "def easy_display_nlp(my_nlp, input_str):\n",
    "\n",
    "  doc = nlp(input_str)\n",
    "  text2 = [s.text for s in doc if not re.fullmatch(\"まあ|まぁ|ま|えー|あのー\",s.text) ]\n",
    "  text2 = ''.join(text2)\n",
    "  doc = nlp(text2)\n",
    "  ###依存構文解析結果の表形式表示\n",
    "  result_list = []\n",
    "  for sent in doc.sents:\n",
    "    #１文ごとに改行表示（センテンス区切り表示）\n",
    "    print(sent)\n",
    "\n",
    "    #各文を解析して結果をlistに入れる（文章が複数ある場合でもまとめて一つにしてしまう）\n",
    "    for token in sent:\n",
    "      #https://spacy.io/api/token\n",
    "      #print(dir(token))\n",
    "      #コメントは公式サイト記載ではなく、解釈なので参考程度に。\n",
    "      print(token)\n",
    "      info_dict = {}\n",
    "      info_dict[\".i\"]             = token.i             # トークン番号（複数文がある場合でも0に戻らず連番になる）\n",
    "      info_dict[\".orth_\"]         = token.orth_         # オリジナルテキスト\n",
    "      info_dict[\"._.reading\"]     = token._.reading     # 読み仮名\n",
    "      info_dict[\".pos_\"]          = token.pos_          # 品詞(UD)\n",
    "      info_dict[\".tag_\"]          = token.tag_          # 品詞(日本語)\n",
    "      info_dict[\".lemma_\"]        = token.lemma_        # 基本形（名寄せ後）\n",
    "      info_dict[\"._.inf\"]         = token._.inf         # 活用情報\n",
    "      info_dict[\".rank\"]          = token.rank          # 頻度のように扱えるかも\n",
    "      info_dict[\".norm_\"]         = token.norm_         # 原型\n",
    "      info_dict[\".is_oov\"]        = token.is_oov        # 登録されていない単語か？\n",
    "      info_dict[\".is_stop\"]       = token.is_stop       # ストップワードか？\n",
    "      info_dict[\".has_vector\"]    = token.has_vector    # word2vecの情報を持っているか？\n",
    "      info_dict[\"list(.lefts)\"]   = list(token.lefts)   # 関連語まとめ(左)\n",
    "      info_dict[\"list(.rights)\"]  = ''.join([t.text for t in token.rights])  # 関連語まとめ(右)\n",
    "      info_dict[\".dep_\"]          = token.dep_          # 係り受けの関係性\n",
    "      info_dict[\".head.i\"]        = token.head.i        # 係り受けの相手トークン番号\n",
    "      info_dict[\".head.text\"]     = token.head.text     # 係り受けの相手のテキスト\n",
    "      info_dict[\".ent_type_\"]     = list(token.children)\n",
    "      result_list.append(info_dict)\n",
    "\n",
    "  #作成した辞書のリストを、DataFrame形式にしてJupyter上で綺麗に表示する\n",
    "  import pandas as pd\n",
    "  #pd.set_option('display.max_columns', 100)\n",
    "  df = pd.DataFrame(result_list)\n",
    "  from IPython.display import display\n",
    "  display(df)\n",
    "\n",
    "  ###係り受け表示\n",
    "  #係り受けのグラフ形式を図示する\n",
    "  #Colaboratory上で直接表示するためには少々工夫を要する\n",
    "  #https://stackoverflow.com/questions/58892382/displacy-from-spacy-in-google-colab\n",
    "  from spacy import displacy\n",
    "  displacy.render(doc, style='dep', jupyter=True, options={'distance': 90})\n",
    "\n",
    "  ###抽象分類の可視化\n",
    "  #入力した文章に特に地名等がなければ、\n",
    "  #UserWarning: [W006] No entities to visualize found in Doc object の警告が出る\n",
    "  #抽象分類の表示\n",
    "  ent_result_list = []\n",
    "  for ent in doc.ents:\n",
    "    ent_dict = {}\n",
    "    ent_dict[\".text\"]=ent.text\n",
    "    ent_dict[\".start_char\"]=ent.start_char\n",
    "    ent_dict[\".end_cahr\"]=ent.end_char\n",
    "    ent_dict[\".label_\"]=ent.label_\n",
    "    ent_result_list.append(ent_dict)\n",
    "  #DataFrameの表形式での表示\n",
    "  display(pd.DataFrame(ent_result_list))\n",
    "  #マーキング形式での表示\n",
    "  displacy.render(doc, style='ent', jupyter=True, options={'distance': 90})\n",
    "\n",
    "  ###キーワードの列挙表示\n",
    "  #接頭/接尾などが加わった形で出してくれる\n",
    "  for chunks in doc.noun_chunks:\n",
    "    print(chunks,end=\", \")"
   ]
  },
  {
   "cell_type": "code",
   "execution_count": 17,
   "metadata": {
    "scrolled": false
   },
   "outputs": [
    {
     "name": "stderr",
     "output_type": "stream",
     "text": [
      "/Library/Frameworks/Python.framework/Versions/3.6/lib/python3.6/site-packages/spacy/util.py:275: UserWarning: [W031] Model 'ja_ginza' (3.1.0) requires spaCy v2.2 and is incompatible with the current spaCy version (2.3.2). This may lead to unexpected results or runtime errors. To resolve this, download a newer compatible model or retrain your custom model with the current spaCy version. For more details and available updates, run: python -m spacy validate\n",
      "  warnings.warn(warn_msg)\n"
     ]
    },
    {
     "name": "stdout",
     "output_type": "stream",
     "text": [
      "\n",
      "AI専用のホームページ\n",
      "AI\n",
      "専用\n",
      "の\n",
      "ホームページ\n"
     ]
    },
    {
     "data": {
      "text/html": [
       "<div>\n",
       "<style scoped>\n",
       "    .dataframe tbody tr th:only-of-type {\n",
       "        vertical-align: middle;\n",
       "    }\n",
       "\n",
       "    .dataframe tbody tr th {\n",
       "        vertical-align: top;\n",
       "    }\n",
       "\n",
       "    .dataframe thead th {\n",
       "        text-align: right;\n",
       "    }\n",
       "</style>\n",
       "<table border=\"1\" class=\"dataframe\">\n",
       "  <thead>\n",
       "    <tr style=\"text-align: right;\">\n",
       "      <th></th>\n",
       "      <th>.i</th>\n",
       "      <th>.orth_</th>\n",
       "      <th>._.reading</th>\n",
       "      <th>.pos_</th>\n",
       "      <th>.tag_</th>\n",
       "      <th>.lemma_</th>\n",
       "      <th>._.inf</th>\n",
       "      <th>.rank</th>\n",
       "      <th>.norm_</th>\n",
       "      <th>.is_oov</th>\n",
       "      <th>.is_stop</th>\n",
       "      <th>.has_vector</th>\n",
       "      <th>list(.lefts)</th>\n",
       "      <th>list(.rights)</th>\n",
       "      <th>.dep_</th>\n",
       "      <th>.head.i</th>\n",
       "      <th>.head.text</th>\n",
       "      <th>.ent_type_</th>\n",
       "    </tr>\n",
       "  </thead>\n",
       "  <tbody>\n",
       "    <tr>\n",
       "      <th>0</th>\n",
       "      <td>0</td>\n",
       "      <td>AI</td>\n",
       "      <td>エーアイ</td>\n",
       "      <td>NOUN</td>\n",
       "      <td>名詞-普通名詞-一般</td>\n",
       "      <td>AI</td>\n",
       "      <td>*,*</td>\n",
       "      <td>18446744073709551615</td>\n",
       "      <td>ai</td>\n",
       "      <td>True</td>\n",
       "      <td>False</td>\n",
       "      <td>False</td>\n",
       "      <td>[]</td>\n",
       "      <td></td>\n",
       "      <td>compound</td>\n",
       "      <td>1</td>\n",
       "      <td>専用</td>\n",
       "      <td>[]</td>\n",
       "    </tr>\n",
       "    <tr>\n",
       "      <th>1</th>\n",
       "      <td>1</td>\n",
       "      <td>専用</td>\n",
       "      <td>センヨウ</td>\n",
       "      <td>NOUN</td>\n",
       "      <td>名詞-普通名詞-サ変可能</td>\n",
       "      <td>専用</td>\n",
       "      <td>*,*</td>\n",
       "      <td>997</td>\n",
       "      <td>専用</td>\n",
       "      <td>False</td>\n",
       "      <td>False</td>\n",
       "      <td>True</td>\n",
       "      <td>[AI]</td>\n",
       "      <td>の</td>\n",
       "      <td>nmod</td>\n",
       "      <td>3</td>\n",
       "      <td>ホームページ</td>\n",
       "      <td>[AI, の]</td>\n",
       "    </tr>\n",
       "    <tr>\n",
       "      <th>2</th>\n",
       "      <td>2</td>\n",
       "      <td>の</td>\n",
       "      <td>ノ</td>\n",
       "      <td>ADP</td>\n",
       "      <td>助詞-格助詞</td>\n",
       "      <td>の</td>\n",
       "      <td>*,*</td>\n",
       "      <td>0</td>\n",
       "      <td>の</td>\n",
       "      <td>False</td>\n",
       "      <td>True</td>\n",
       "      <td>True</td>\n",
       "      <td>[]</td>\n",
       "      <td></td>\n",
       "      <td>case</td>\n",
       "      <td>1</td>\n",
       "      <td>専用</td>\n",
       "      <td>[]</td>\n",
       "    </tr>\n",
       "    <tr>\n",
       "      <th>3</th>\n",
       "      <td>3</td>\n",
       "      <td>ホームページ</td>\n",
       "      <td>ホームページ</td>\n",
       "      <td>NOUN</td>\n",
       "      <td>名詞-普通名詞-一般</td>\n",
       "      <td>ホームページ</td>\n",
       "      <td>*,*</td>\n",
       "      <td>1528</td>\n",
       "      <td>ホームページ</td>\n",
       "      <td>False</td>\n",
       "      <td>False</td>\n",
       "      <td>True</td>\n",
       "      <td>[専用]</td>\n",
       "      <td></td>\n",
       "      <td>ROOT</td>\n",
       "      <td>3</td>\n",
       "      <td>ホームページ</td>\n",
       "      <td>[専用]</td>\n",
       "    </tr>\n",
       "  </tbody>\n",
       "</table>\n",
       "</div>"
      ],
      "text/plain": [
       "   .i  .orth_ ._.reading .pos_         .tag_ .lemma_ ._.inf  \\\n",
       "0   0      AI       エーアイ  NOUN    名詞-普通名詞-一般      AI    *,*   \n",
       "1   1      専用       センヨウ  NOUN  名詞-普通名詞-サ変可能      専用    *,*   \n",
       "2   2       の          ノ   ADP        助詞-格助詞       の    *,*   \n",
       "3   3  ホームページ     ホームページ  NOUN    名詞-普通名詞-一般  ホームページ    *,*   \n",
       "\n",
       "                  .rank  .norm_  .is_oov  .is_stop  .has_vector list(.lefts)  \\\n",
       "0  18446744073709551615      ai     True     False        False           []   \n",
       "1                   997      専用    False     False         True         [AI]   \n",
       "2                     0       の    False      True         True           []   \n",
       "3                  1528  ホームページ    False     False         True         [専用]   \n",
       "\n",
       "  list(.rights)     .dep_  .head.i .head.text .ent_type_  \n",
       "0                compound        1         専用         []  \n",
       "1             の      nmod        3     ホームページ    [AI, の]  \n",
       "2                    case        1         専用         []  \n",
       "3                    ROOT        3     ホームページ       [専用]  "
      ]
     },
     "metadata": {},
     "output_type": "display_data"
    },
    {
     "data": {
      "text/html": [
       "<span class=\"tex2jax_ignore\"><svg xmlns=\"http://www.w3.org/2000/svg\" xmlns:xlink=\"http://www.w3.org/1999/xlink\" xml:lang=\"ja\" id=\"b3cc051fe7ba475da723a21db79ba7af-0\" class=\"displacy\" width=\"410\" height=\"227.0\" direction=\"ltr\" style=\"max-width: none; height: 227.0px; color: #000000; background: #ffffff; font-family: Arial; direction: ltr\">\n",
       "<text class=\"displacy-token\" fill=\"currentColor\" text-anchor=\"middle\" y=\"137.0\">\n",
       "    <tspan class=\"displacy-word\" fill=\"currentColor\" x=\"50\">AI</tspan>\n",
       "    <tspan class=\"displacy-tag\" dy=\"2em\" fill=\"currentColor\" x=\"50\">NOUN</tspan>\n",
       "</text>\n",
       "\n",
       "<text class=\"displacy-token\" fill=\"currentColor\" text-anchor=\"middle\" y=\"137.0\">\n",
       "    <tspan class=\"displacy-word\" fill=\"currentColor\" x=\"140\">専用</tspan>\n",
       "    <tspan class=\"displacy-tag\" dy=\"2em\" fill=\"currentColor\" x=\"140\">NOUN</tspan>\n",
       "</text>\n",
       "\n",
       "<text class=\"displacy-token\" fill=\"currentColor\" text-anchor=\"middle\" y=\"137.0\">\n",
       "    <tspan class=\"displacy-word\" fill=\"currentColor\" x=\"230\">の</tspan>\n",
       "    <tspan class=\"displacy-tag\" dy=\"2em\" fill=\"currentColor\" x=\"230\">ADP</tspan>\n",
       "</text>\n",
       "\n",
       "<text class=\"displacy-token\" fill=\"currentColor\" text-anchor=\"middle\" y=\"137.0\">\n",
       "    <tspan class=\"displacy-word\" fill=\"currentColor\" x=\"320\">ホームページ</tspan>\n",
       "    <tspan class=\"displacy-tag\" dy=\"2em\" fill=\"currentColor\" x=\"320\">NOUN</tspan>\n",
       "</text>\n",
       "\n",
       "<g class=\"displacy-arrow\">\n",
       "    <path class=\"displacy-arc\" id=\"arrow-b3cc051fe7ba475da723a21db79ba7af-0-0\" stroke-width=\"2px\" d=\"M70,92.0 C70,47.0 135.0,47.0 135.0,92.0\" fill=\"none\" stroke=\"currentColor\"/>\n",
       "    <text dy=\"1.25em\" style=\"font-size: 0.8em; letter-spacing: 1px\">\n",
       "        <textPath xlink:href=\"#arrow-b3cc051fe7ba475da723a21db79ba7af-0-0\" class=\"displacy-label\" startOffset=\"50%\" side=\"left\" fill=\"currentColor\" text-anchor=\"middle\">compound</textPath>\n",
       "    </text>\n",
       "    <path class=\"displacy-arrowhead\" d=\"M70,94.0 L62,82.0 78,82.0\" fill=\"currentColor\"/>\n",
       "</g>\n",
       "\n",
       "<g class=\"displacy-arrow\">\n",
       "    <path class=\"displacy-arc\" id=\"arrow-b3cc051fe7ba475da723a21db79ba7af-0-1\" stroke-width=\"2px\" d=\"M160,92.0 C160,2.0 320.0,2.0 320.0,92.0\" fill=\"none\" stroke=\"currentColor\"/>\n",
       "    <text dy=\"1.25em\" style=\"font-size: 0.8em; letter-spacing: 1px\">\n",
       "        <textPath xlink:href=\"#arrow-b3cc051fe7ba475da723a21db79ba7af-0-1\" class=\"displacy-label\" startOffset=\"50%\" side=\"left\" fill=\"currentColor\" text-anchor=\"middle\">nmod</textPath>\n",
       "    </text>\n",
       "    <path class=\"displacy-arrowhead\" d=\"M160,94.0 L152,82.0 168,82.0\" fill=\"currentColor\"/>\n",
       "</g>\n",
       "\n",
       "<g class=\"displacy-arrow\">\n",
       "    <path class=\"displacy-arc\" id=\"arrow-b3cc051fe7ba475da723a21db79ba7af-0-2\" stroke-width=\"2px\" d=\"M160,92.0 C160,47.0 225.0,47.0 225.0,92.0\" fill=\"none\" stroke=\"currentColor\"/>\n",
       "    <text dy=\"1.25em\" style=\"font-size: 0.8em; letter-spacing: 1px\">\n",
       "        <textPath xlink:href=\"#arrow-b3cc051fe7ba475da723a21db79ba7af-0-2\" class=\"displacy-label\" startOffset=\"50%\" side=\"left\" fill=\"currentColor\" text-anchor=\"middle\">case</textPath>\n",
       "    </text>\n",
       "    <path class=\"displacy-arrowhead\" d=\"M225.0,94.0 L233.0,82.0 217.0,82.0\" fill=\"currentColor\"/>\n",
       "</g>\n",
       "</svg></span>"
      ],
      "text/plain": [
       "<IPython.core.display.HTML object>"
      ]
     },
     "metadata": {},
     "output_type": "display_data"
    },
    {
     "data": {
      "text/html": [
       "<div>\n",
       "<style scoped>\n",
       "    .dataframe tbody tr th:only-of-type {\n",
       "        vertical-align: middle;\n",
       "    }\n",
       "\n",
       "    .dataframe tbody tr th {\n",
       "        vertical-align: top;\n",
       "    }\n",
       "\n",
       "    .dataframe thead th {\n",
       "        text-align: right;\n",
       "    }\n",
       "</style>\n",
       "<table border=\"1\" class=\"dataframe\">\n",
       "  <thead>\n",
       "    <tr style=\"text-align: right;\">\n",
       "      <th></th>\n",
       "      <th>.text</th>\n",
       "      <th>.start_char</th>\n",
       "      <th>.end_cahr</th>\n",
       "      <th>.label_</th>\n",
       "    </tr>\n",
       "  </thead>\n",
       "  <tbody>\n",
       "    <tr>\n",
       "      <th>0</th>\n",
       "      <td>AI専用</td>\n",
       "      <td>0</td>\n",
       "      <td>4</td>\n",
       "      <td>Doctrine_Method_Other</td>\n",
       "    </tr>\n",
       "  </tbody>\n",
       "</table>\n",
       "</div>"
      ],
      "text/plain": [
       "  .text  .start_char  .end_cahr                .label_\n",
       "0  AI専用            0          4  Doctrine_Method_Other"
      ]
     },
     "metadata": {},
     "output_type": "display_data"
    },
    {
     "data": {
      "text/html": [
       "<span class=\"tex2jax_ignore\"><div class=\"entities\" style=\"line-height: 2.5; direction: ltr\">\n",
       "<mark class=\"entity\" style=\"background: #ddd; padding: 0.45em 0.6em; margin: 0 0.25em; line-height: 1; border-radius: 0.35em;\">\n",
       "    AI専用\n",
       "    <span style=\"font-size: 0.8em; font-weight: bold; line-height: 1; border-radius: 0.35em; text-transform: uppercase; vertical-align: middle; margin-left: 0.5rem\">Doctrine_Method_Other</span>\n",
       "</mark>\n",
       "のホームページ</div></span>"
      ],
      "text/plain": [
       "<IPython.core.display.HTML object>"
      ]
     },
     "metadata": {},
     "output_type": "display_data"
    },
    {
     "name": "stdout",
     "output_type": "stream",
     "text": [
      "AI専用, ホームページ, "
     ]
    }
   ],
   "source": [
    "import spacy\n",
    "import re\n",
    "nlp = spacy.load('ja_ginza')\n",
    "#merge_nps = nlp.create_pipe(\"merge_noun_chunks\")\n",
    "#nlp.add_pipe(merge_nps)\n",
    "target_str = \"AI専用のホームページ\"\n",
    "\n",
    "easy_display_nlp(nlp, target_str)"
   ]
  },
  {
   "cell_type": "code",
   "execution_count": 7,
   "metadata": {},
   "outputs": [
    {
     "ename": "NameError",
     "evalue": "name 'n' is not defined",
     "output_type": "error",
     "traceback": [
      "\u001b[0;31m---------------------------------------------------------------------------\u001b[0m",
      "\u001b[0;31mNameError\u001b[0m                                 Traceback (most recent call last)",
      "\u001b[0;32m<ipython-input-7-efcb9d8dcfe2>\u001b[0m in \u001b[0;36m<module>\u001b[0;34m\u001b[0m\n\u001b[0;32m----> 1\u001b[0;31m \u001b[0mlen\u001b[0m\u001b[0;34m(\u001b[0m\u001b[0mn\u001b[0m\u001b[0;34m)\u001b[0m\u001b[0;34m\u001b[0m\u001b[0;34m\u001b[0m\u001b[0m\n\u001b[0m",
      "\u001b[0;31mNameError\u001b[0m: name 'n' is not defined"
     ]
    }
   ],
   "source": [
    "len(n)"
   ]
  },
  {
   "cell_type": "code",
   "execution_count": 9,
   "metadata": {},
   "outputs": [
    {
     "ename": "AttributeError",
     "evalue": "'spacy.tokens.doc.Doc' object has no attribute 'sent'",
     "output_type": "error",
     "traceback": [
      "\u001b[0;31m---------------------------------------------------------------------------\u001b[0m",
      "\u001b[0;31mAttributeError\u001b[0m                            Traceback (most recent call last)",
      "\u001b[0;32m<ipython-input-9-022dd6bce447>\u001b[0m in \u001b[0;36m<module>\u001b[0;34m\u001b[0m\n\u001b[0;32m----> 1\u001b[0;31m \u001b[0mdoc\u001b[0m\u001b[0;34m.\u001b[0m\u001b[0msent\u001b[0m\u001b[0;34m\u001b[0m\u001b[0;34m\u001b[0m\u001b[0m\n\u001b[0m",
      "\u001b[0;31mAttributeError\u001b[0m: 'spacy.tokens.doc.Doc' object has no attribute 'sent'"
     ]
    }
   ],
   "source": [
    "doc.token"
   ]
  },
  {
   "cell_type": "code",
   "execution_count": 9,
   "metadata": {},
   "outputs": [],
   "source": [
    "import re\n",
    "l = ['まあ', 'これ','は','です','ね','。']\n",
    "l2 = [s for s in l if not re.search(\"まあ|ま\",s) ]"
   ]
  },
  {
   "cell_type": "code",
   "execution_count": 10,
   "metadata": {},
   "outputs": [
    {
     "data": {
      "text/plain": [
       "['これ', 'は', 'です', 'ね', '。']"
      ]
     },
     "execution_count": 10,
     "metadata": {},
     "output_type": "execute_result"
    }
   ],
   "source": [
    "l2"
   ]
  },
  {
   "cell_type": "code",
   "execution_count": 9,
   "metadata": {},
   "outputs": [
    {
     "name": "stdout",
     "output_type": "stream",
     "text": [
      "0\n",
      "9\n",
      "1\n",
      "8\n",
      "2\n",
      "7\n",
      "3\n",
      "6\n",
      "4\n",
      "5\n",
      "5\n",
      "4\n",
      "6\n",
      "3\n",
      "7\n",
      "2\n",
      "8\n",
      "1\n",
      "9\n",
      "0\n"
     ]
    }
   ],
   "source": [
    "for i,j in enumerate(reversed(range(10))):\n",
    "    print(i)\n",
    "    print(j)"
   ]
  },
  {
   "cell_type": "code",
   "execution_count": null,
   "metadata": {},
   "outputs": [],
   "source": [
    "#依存構造解析結果から、主要な要素を表示する関数\n",
    "#モデルのロードは関数外で実施すること\n",
    "#import spacy\n",
    "#nlp = spacy.load('ja_ginza')\n",
    "#get_features(nlp, \"テスト用の文章\")\n",
    "def get_features(my_nlp, input_str):\n",
    "    doc = my_nlp(input_str)\n",
    "\n",
    "  ###依存構文解析結果の表形式表示\n",
    "    result_list = []\n",
    "    for sent in doc.sents:\n",
    "    #各文を解析して結果をlistに入れる（文章が複数ある場合でもまとめて一つにしてしまう）\n",
    "        for token in sent:\n",
    "            try:\n",
    "                nbor = token.nbor\n",
    "            except IndexError:\n",
    "                nbor = None\n",
    "            info_dict = {}\n",
    "            features = \"i_{0}_text_{1}_pos_{2}_dep_{3}_nbor_{4}_ent_{5}\".format(token.i,token.orth_,token.pos_,token.dep_,token.dep_,token.ent_type_)\n",
    "            info_dict[\"features\"] = features\n",
    "            info_dict[\"text\"] = token.orth_\n",
    "            result_list.append(info_dict)\n",
    "\n",
    "    return(result_list)"
   ]
  }
 ],
 "metadata": {
  "kernelspec": {
   "display_name": "Python 3",
   "language": "python",
   "name": "python3"
  },
  "language_info": {
   "codemirror_mode": {
    "name": "ipython",
    "version": 3
   },
   "file_extension": ".py",
   "mimetype": "text/x-python",
   "name": "python",
   "nbconvert_exporter": "python",
   "pygments_lexer": "ipython3",
   "version": "3.6.8"
  }
 },
 "nbformat": 4,
 "nbformat_minor": 2
}
