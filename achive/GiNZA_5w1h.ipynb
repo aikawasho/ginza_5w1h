{
 "cells": [
  {
   "cell_type": "code",
   "execution_count": 50,
   "metadata": {},
   "outputs": [],
   "source": [
    "#依存構造解析結果から、各トークンと特徴を取得する関数\n",
    "#モデルのロードは関数外で実施すること\n",
    "#import spacy\n",
    "#nlp = spacy.load('ja_ginza')\n",
    "#get_features(nlp, \"テスト用の文章\")\n",
    "def get_features(my_nlp, input_str):\n",
    "    doc = my_nlp(input_str)\n",
    "\n",
    "  ###依存構文解析結果の表形式表示\n",
    "    result_list = []\n",
    "    for sent in doc.sents:\n",
    "    #各文を解析して結果をlistに入れる（文章が複数ある場合でもまとめて一つにしてしまう）\n",
    "        for token in sent:\n",
    "            try:\n",
    "                nbor = token.nbor\n",
    "            except IndexError:\n",
    "                nbor = None\n",
    "            info_dict = {}\n",
    "            features = \"i_{0}_pos_{1}_dep_{2}_right_{3}_left_{4}_ent_{5}\".format(token.i,token.pos_,token.dep_,''.join([t.text for t in token.rights]),''.join([t.text for t in token.lefts]),token.ent_type_ )\n",
    "            info_dict[\"features\"] = features\n",
    "            info_dict[\"text\"] = token.orth_ \n",
    "            info_dict[\"right\"] = ''.join([t.text for t in token.rights])\n",
    "            result_list.append(info_dict)\n",
    "\n",
    "    return(result_list)"
   ]
  },
  {
   "cell_type": "code",
   "execution_count": 62,
   "metadata": {},
   "outputs": [],
   "source": [
    "#5w1hを出力するための辞書。keyが5w1hとなる特徴を表し, 値が5w1hの中のどれにマッチしたかを表す。\n",
    "dictionary = {\"^(?=.*(NOUN|PROPN))(?=.*ent_(Country|Province))\":\"WHERE\",\"^(?=.*(VERB|ADJ))(?=.*ので)\":\"Why\", \"^(?=.*(VERB|ADJ))(?=.*(ROOT|amod|acl))\":\"HOW\",\"^(?=.*NOUN)(?=.*nmod)\":\"HOW\",\n",
    "              \"^(?=.*NOUN)(?=.*(nsubj|iobj))\":\"WHO\",\"^(?=.*NOUN)(?=.*right_(に|を))(?=.*obl)\":\"WHAT\",\"^(?=.*NOUN)(?=.*compound)\":\"WHAT\",}"
   ]
  },
  {
   "cell_type": "code",
   "execution_count": 64,
   "metadata": {},
   "outputs": [
    {
     "name": "stdout",
     "output_type": "stream",
     "text": [
      "i_0_pos_PRON_dep_iobj_right_は_ent_\n",
      "i_1_pos_ADP_dep_case_right__ent_\n",
      "i_2_pos_PROPN_dep_iobj_right__ent_Province\n",
      "WHERE:大阪\n",
      "i_3_pos_VERB_dep_advcl_right_たので_ent_\n",
      "Why:いたので\n",
      "i_4_pos_AUX_dep_aux_right__ent_\n",
      "i_5_pos_SCONJ_dep_mark_right__ent_\n",
      "i_6_pos_AUX_dep_aux_right__ent_\n",
      "i_7_pos_ADJ_dep_ROOT_right_です_ent_\n",
      "HOW:簡単です\n",
      "i_8_pos_AUX_dep_aux_right__ent_\n"
     ]
    }
   ],
   "source": [
    "import re\n",
    "import spacy\n",
    "nlp = spacy.load('ja_ginza')\n",
    "#   #接頭/接尾などが加わった形で出力\n",
    "merge_nps = nlp.create_pipe(\"merge_noun_chunks\")\n",
    "nlp.add_pipe(merge_nps)\n",
    "target_str = \"私は大阪いたので簡単です\"\n",
    "F = get_features(nlp, target_str)\n",
    "for f in F:\n",
    "    print(f[\"features\"])\n",
    "    for d in dictionary:\n",
    "\n",
    "        if re.search(d,f[\"features\"]):\n",
    "            print(\"{0}:{1}\".format(dictionary[d],f[\"text\"]+f[\"right\"]))  \n",
    "            break"
   ]
  },
  {
   "cell_type": "code",
   "execution_count": null,
   "metadata": {},
   "outputs": [],
   "source": []
  }
 ],
 "metadata": {
  "kernelspec": {
   "display_name": "Python 3",
   "language": "python",
   "name": "python3"
  },
  "language_info": {
   "codemirror_mode": {
    "name": "ipython",
    "version": 3
   },
   "file_extension": ".py",
   "mimetype": "text/x-python",
   "name": "python",
   "nbconvert_exporter": "python",
   "pygments_lexer": "ipython3",
   "version": "3.6.8"
  }
 },
 "nbformat": 4,
 "nbformat_minor": 2
}
