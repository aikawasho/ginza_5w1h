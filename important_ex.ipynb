{
 "cells": [
  {
   "cell_type": "code",
   "execution_count": 57,
   "metadata": {},
   "outputs": [
    {
     "name": "stdout",
     "output_type": "stream",
     "text": [
      "OK えっとー聞こえる。はい聞こえます。AI専用のホームページの話があったじゃん。はい。あれさあ尾崎の方でもってもらいたいの。承知しました。多分出来上がって石井さんから入れてもらってるんだけどあれおすすめらんないかな。承知しました。請求とかが今。さっさとホームページ出してほしいんじゃないのページを公開をちょっとあるお酒持ってもらっていい。色々あるから大変だったらちょっと俺に言って。承知しました。塩釜もあるしアイタムズのさっき言ったようにちょっと持ってるじゃん。じゃあITDは伊藤にさあ引き継いでいいから。承知しました。ITD伊藤に引き継いだ後でもいいんだけどでいいから AIのホームページのやつ入ってほしいからだからアイタムズ今月、5月も少しあるのかな、塩釜メインでそういう感じでいい、ちょっとお願いして。承知しました。一点だけですね、ご報告したいことがありまして。どこか明日の10時まであの日本テクト条件で作業が厳しいということを伺ったんですね。なのでもう人を入れるしかないと考えております。なるほどね。はい。日本テクトってそんな忙しいんだ。IBMのもやってるからね。なるほど。中島さんもほぼ同じ状況のようです。 かといって誰入れる。でもそうですね。　JAVAで岡島さん作ってんでしょ。言語ちょっと確認して。PHPです。で作ってるって。今じゃあできるけど忙しいから。PHPだったらでもまだ見つかるね。ちょっと俺じゃあ当たるわ。 もう一つがですねswiftで万歩計アプリってかかるれている。あっちはとさんできる。ようさん監修の元とさんって感じかな。PHPが尾崎の動きの方が好きでいいと思うんだよ。最もマルチプラットフォームだと望ましいんですよ。あーそうだな。一旦もういいよ。りょうさん空くまでIOSでとさんやってもらって、 Android の対応も最悪 Android で出てくるけど後でフラットにする。ちょっとら当たる。あのグループで今から投げるからちょっと待ってここで。今投げた。優先順位としては塩釜一番なのは変わりないから尾崎は2番目がアイタイムズで、ITD の件は3番目。ITDのやつが終わってからでいい、AIのホームページは。忘れないでね。早く会いたいですね先週だっけ石井さんから言われてるやつあごめんちょっとそれはそうだな\n"
     ]
    }
   ],
   "source": [
    "from parse_5w1h import parse_5w1h\n",
    "import spacy\n",
    "import re\n",
    "#テストファイル読み込み&下処理\n",
    "path = \"/Users/shota/Documents/itac/test_summary1.txt\"\n",
    "with open(path) as f:\n",
    "    s = f.read()\n",
    "s = s.replace('\\n','')\n",
    "print(s)\n",
    "nlp = spacy.load('ja_ginza')\n",
    "doc = nlp(s)\n",
    "text2 = [s.text for s in doc if not re.fullmatch(\"まあ|まぁ|ま|えー|あのー|あ|えっとー\",s.text) ]\n",
    "text2 = ''.join(text2)\n",
    "doc = nlp(text2)"
   ]
  },
  {
   "cell_type": "code",
   "execution_count": 49,
   "metadata": {},
   "outputs": [
    {
     "name": "stdout",
     "output_type": "stream",
     "text": [
      "語彙サイズ: 24\n"
     ]
    }
   ],
   "source": [
    "from collections import defaultdict\n",
    "\n",
    "# 1. 単語の頻度をカウント\n",
    "word2freq = defaultdict(int)\n",
    "word_list = []\n",
    "for sent in doc.sents:\n",
    "    word_list = [word.text for word in sent if word.pos_ == \"NOUN\" and word.rank > 2000] \n",
    "    for word in set(word_list) :\n",
    "            word2freq[word] += 1\n",
    "print(\"語彙サイズ: %d\" % len(word2freq.keys()))"
   ]
  },
  {
   "cell_type": "code",
   "execution_count": 54,
   "metadata": {},
   "outputs": [
    {
     "name": "stdout",
     "output_type": "stream",
     "text": [
      "語彙サイズ: 24\n",
      "['ITD', 'AI', 'やつ', 'PHP', 'アイタムズ', 'テクト', 'OK', '請求', '酒', '塩釜', '明日', 'JAVA', 'アプリ', '万歩', 'マルチ', 'プラットフォーム', 'IOS', 'Android', '最悪', '優先順位', '変わり', 'アイタイムズ', '先週', 'ごめん']\n"
     ]
    }
   ],
   "source": [
    "# 2. 語彙制限（高頻度な500単語に制限）\n",
    "\n",
    "vocab = list()\n",
    "for word, freq in sorted(word2freq.items(), key=lambda x: x[1], reverse=True)[:500]:\n",
    "    vocab.append(word)\n",
    "print(\"語彙サイズ: %d\" % len(vocab))\n",
    "print(vocab)"
   ]
  },
  {
   "cell_type": "code",
   "execution_count": 51,
   "metadata": {},
   "outputs": [],
   "source": [
    "# 3. TFIDFの計算\n",
    "def tfidf(word, word_list, word2freq, n):\n",
    "    return (word_list.count(word) / len(word_list)) * math.log(n / word2freq[word])"
   ]
  },
  {
   "cell_type": "code",
   "execution_count": 52,
   "metadata": {},
   "outputs": [],
   "source": [
    "# 4. tfidfに変換\n",
    "import math\n",
    "def tfidf_list(doc,vocab,word2freq, n):\n",
    "    word_im = defaultdict(int)\n",
    "    for sent in doc.sents:\n",
    "        word_list = [word.text for word in sent] \n",
    "        for token in sent:\n",
    "            if token.text in vocab:\n",
    "                word_im[token.text] = tfidf(token.text, word_list, word2freq, n)\n",
    "    return word_im"
   ]
  },
  {
   "cell_type": "code",
   "execution_count": 53,
   "metadata": {
    "scrolled": false
   },
   "outputs": [
    {
     "data": {
      "text/plain": [
       "[('OK', 1.3040076684760487),\n",
       " ('請求', 0.6520038342380243),\n",
       " ('JAVA', 0.43466922282534953),\n",
       " ('テクト', 0.40235947810852507),\n",
       " ('マルチ', 0.39120230054281463),\n",
       " ('プラットフォーム', 0.39120230054281463),\n",
       " ('Android', 0.26080153369520975),\n",
       " ('万歩', 0.2301190003193027),\n",
       " ('アプリ', 0.2301190003193027),\n",
       " ('AI', 0.1875607144506691),\n",
       " ('先週', 0.1778192275194612),\n",
       " ('ごめん', 0.1778192275194612),\n",
       " ('酒', 0.17008795675774546),\n",
       " ('ITD', 0.16838190962055039),\n",
       " ('PHP', 0.165494748044708),\n",
       " ('明日', 0.15648092021712584),\n",
       " ('塩釜', 0.1397151073367195),\n",
       " ('優先順位', 0.1397151073367195),\n",
       " ('変わり', 0.1397151073367195),\n",
       " ('アイタイムズ', 0.1397151073367195),\n",
       " ('IOS', 0.13040076684760488),\n",
       " ('最悪', 0.13040076684760488),\n",
       " ('やつ', 0.12788230530727437),\n",
       " ('アイタムズ', 0.06073350612958869)]"
      ]
     },
     "execution_count": 53,
     "metadata": {},
     "output_type": "execute_result"
    }
   ],
   "source": [
    "# 4. 文を解析, tfidfが大きい順にならびかえ\n",
    "\n",
    "aa = tfidf_list(doc,vocab, word2freq, len([1 for sent in doc.sents]))\n",
    "sorted(aa.items(), key=lambda x: x[1], reverse=True)"
   ]
  },
  {
   "cell_type": "code",
   "execution_count": 56,
   "metadata": {},
   "outputs": [
    {
     "name": "stdout",
     "output_type": "stream",
     "text": [
      "OK\n",
      "AI専用\n",
      "ホームページ\n",
      "話\n",
      "尾崎\n",
      "方\n",
      "石井さん\n",
      "あれお\n",
      "請求\n",
      "今\n",
      "ホームページ\n",
      "ページ\n",
      "公開\n",
      "お酒\n",
      "俺\n",
      "塩釜\n",
      "アイタムズ\n",
      "ITD\n",
      "伊藤\n",
      "ITD伊藤\n",
      "後\n",
      "AI\n",
      "ホームページ\n",
      "やつ\n",
      "アイタムズ\n",
      "月\n",
      "塩釜メイン\n",
      "感じ\n",
      "お\n",
      "点\n",
      "ご\n",
      "こと\n",
      "どこ\n",
      "明日\n",
      "時\n",
      "日本テクト条件\n",
      "作業\n",
      "こと\n",
      "人\n",
      "日本テクト\n",
      "そんな\n",
      "IBM\n",
      "中島さん\n",
      "状況\n",
      "誰\n",
      "JAVA\n",
      "岡島さん\n",
      "言語\n",
      "PHP\n",
      "今\n",
      "PHP\n",
      "俺\n",
      "つ\n",
      "swift\n",
      "万歩計アプリ\n",
      "あっち\n",
      "さん\n",
      "ようさん監修\n",
      "元\n",
      "さん\n",
      "感じ\n",
      "PHP\n",
      "尾崎\n",
      "動き\n",
      "方\n",
      "マルチプラットフォーム\n",
      "りょうさん\n",
      "IOS\n",
      "さん\n",
      "Android\n",
      "対応\n",
      "最悪Android\n",
      "後\n",
      "ら\n",
      "グループ\n",
      "今\n",
      "ここ\n",
      "優先順位\n",
      "塩釜\n",
      "変わり\n",
      "尾崎\n",
      "番目\n",
      "アイタイムズ\n",
      "ITD\n",
      "件\n",
      "番目\n",
      "ITD\n",
      "やつ\n",
      "AI\n",
      "ホームページ\n",
      "先週\n",
      "石井さん\n",
      "やつごめん\n",
      "それ\n"
     ]
    }
   ],
   "source": [
    "for chunk in doc.noun_chunks:\n",
    "    print(chunk.text)"
   ]
  },
  {
   "cell_type": "code",
   "execution_count": null,
   "metadata": {},
   "outputs": [],
   "source": []
  }
 ],
 "metadata": {
  "kernelspec": {
   "display_name": "Python 3",
   "language": "python",
   "name": "python3"
  },
  "language_info": {
   "codemirror_mode": {
    "name": "ipython",
    "version": 3
   },
   "file_extension": ".py",
   "mimetype": "text/x-python",
   "name": "python",
   "nbconvert_exporter": "python",
   "pygments_lexer": "ipython3",
   "version": "3.6.8"
  }
 },
 "nbformat": 4,
 "nbformat_minor": 2
}
