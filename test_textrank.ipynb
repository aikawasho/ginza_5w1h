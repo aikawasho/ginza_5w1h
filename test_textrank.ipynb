{
 "cells": [
  {
   "cell_type": "code",
   "execution_count": null,
   "metadata": {},
   "outputs": [],
   "source": []
  },
  {
   "cell_type": "code",
   "execution_count": 4,
   "metadata": {},
   "outputs": [
    {
     "name": "stdout",
     "output_type": "stream",
     "text": [
      "ルイビルアプライアンスパーク\n",
      "緊急管理機関\n",
      "煙\n",
      "オレンジ色\n",
      "工業団地\n",
      "つ\n",
      "火災\n",
      "当局\n",
      "ワイマー氏\n",
      "サッカー場\n",
      "パーク\n",
      "アプライアンス\n",
      "ルイビル\n",
      "オレンジ\n",
      "施設内\n",
      "ケンタッキー州\n",
      "マイク\n",
      "影響\n",
      "水\n",
      "報告\n",
      "者\n",
      "炎\n",
      "周辺\n",
      "地域\n",
      "警報\n",
      "建物\n",
      "周り\n",
      "位置\n",
      "施設\n",
      "原因\n",
      "製造業\n",
      "公園\n",
      "朝\n",
      "両方\n",
      "倉庫\n",
      "被害\n",
      "マイク・ワイマー氏\n",
      "前\n",
      "米国\n",
      "時\n",
      "火事\n",
      "webサイト\n",
      "ため\n",
      "午前\n",
      "市\n",
      "負傷者\n",
      "ゼネラル・エレクトリック\n",
      "消防士\n",
      "cnn\n",
      "ゼネラル・エレクトリック・アプライアンス・パーク\n",
      "金曜日\n",
      "ワイマー\n",
      "ge\n",
      "ビデオ\n",
      "午前7時少し前\n",
      "彼\n"
     ]
    }
   ],
   "source": [
    "import spacy\n",
    "import pytextrank\n",
    "\n",
    "nlp = spacy.load('ja_ginza')\n",
    "\n",
    "tr = pytextrank.TextRank()\n",
    "nlp.add_pipe(tr.PipelineComponent, name='textrank', last=True)\n",
    "\n",
    "text= '金曜日の朝、ケンタッキー州の工業団地で巨大な火事が発生し、当局が被害を封じ込めようと働いたため、その地域に濃い煙が噴出した。市の緊急管理機関のマイク・ワイマー氏によると、ルイビルのゼネラル・エレクトリック・アプライアンス・パークで午前7時少し前に火災が始まりました。 彼は、負傷者や閉じ込められた者の報告はないと言った。 ビデオは煙と明るいオレンジ色の炎の両方を示しました。 消防士は影響を受けた建物の周りの位置を取り、周辺から水を噴霧しました。 ワイマーは、当局が火災の原因を知らなかったとCNNに語り、少なくとも4つの警報が鳴った。 GEのWebサイトによると、ルイビルアプライアンスパークの施設は、米国の製造業を活性化しています。 公園は大きく、34のサッカー場が施設内の倉庫の1つに収まるようになっています。'\n",
    "doc = nlp(text)\n",
    "\n",
    "# examine the top-ranked phrases in the document\n",
    "for p in doc._.phrases:\n",
    "    #print('{:.4f} {:5d}  {}'.format(p.rank, p.count, p.text))\n",
    "    #print(p.chunks)\n",
    "    print(p.text)"
   ]
  },
  {
   "cell_type": "code",
   "execution_count": null,
   "metadata": {},
   "outputs": [],
   "source": []
  }
 ],
 "metadata": {
  "kernelspec": {
   "display_name": "Python 3",
   "language": "python",
   "name": "python3"
  },
  "language_info": {
   "codemirror_mode": {
    "name": "ipython",
    "version": 3
   },
   "file_extension": ".py",
   "mimetype": "text/x-python",
   "name": "python",
   "nbconvert_exporter": "python",
   "pygments_lexer": "ipython3",
   "version": "3.6.8"
  }
 },
 "nbformat": 4,
 "nbformat_minor": 2
}
